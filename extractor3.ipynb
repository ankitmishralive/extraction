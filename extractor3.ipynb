{
 "cells": [
  {
   "cell_type": "markdown",
   "metadata": {},
   "source": []
  },
  {
   "cell_type": "code",
   "execution_count": 1,
   "metadata": {},
   "outputs": [
    {
     "name": "stdout",
     "output_type": "stream",
     "text": [
      "Requirement already satisfied: rapidocr_onnxruntime in /home/ankitmishralive/miniconda3/envs/textextraction/lib/python3.12/site-packages (1.4.3)\n",
      "Requirement already satisfied: pyclipper>=1.2.0 in /home/ankitmishralive/miniconda3/envs/textextraction/lib/python3.12/site-packages (from rapidocr_onnxruntime) (1.3.0.post6)\n",
      "Requirement already satisfied: opencv-python>=4.5.1.48 in /home/ankitmishralive/miniconda3/envs/textextraction/lib/python3.12/site-packages (from rapidocr_onnxruntime) (4.10.0.84)\n",
      "Requirement already satisfied: numpy<3.0.0,>=1.19.5 in /home/ankitmishralive/miniconda3/envs/textextraction/lib/python3.12/site-packages (from rapidocr_onnxruntime) (2.1.3)\n",
      "Requirement already satisfied: six>=1.15.0 in /home/ankitmishralive/.local/lib/python3.12/site-packages (from rapidocr_onnxruntime) (1.16.0)\n",
      "Requirement already satisfied: Shapely!=2.0.4,>=1.7.1 in /home/ankitmishralive/miniconda3/envs/textextraction/lib/python3.12/site-packages (from rapidocr_onnxruntime) (2.0.6)\n",
      "Requirement already satisfied: PyYAML in /home/ankitmishralive/miniconda3/envs/textextraction/lib/python3.12/site-packages (from rapidocr_onnxruntime) (6.0.2)\n",
      "Requirement already satisfied: Pillow in /home/ankitmishralive/miniconda3/envs/textextraction/lib/python3.12/site-packages (from rapidocr_onnxruntime) (10.4.0)\n",
      "Requirement already satisfied: onnxruntime>=1.7.0 in /home/ankitmishralive/miniconda3/envs/textextraction/lib/python3.12/site-packages (from rapidocr_onnxruntime) (1.20.1)\n",
      "Requirement already satisfied: tqdm in /home/ankitmishralive/miniconda3/envs/textextraction/lib/python3.12/site-packages (from rapidocr_onnxruntime) (4.67.1)\n",
      "Requirement already satisfied: coloredlogs in /home/ankitmishralive/miniconda3/envs/textextraction/lib/python3.12/site-packages (from onnxruntime>=1.7.0->rapidocr_onnxruntime) (15.0.1)\n",
      "Requirement already satisfied: flatbuffers in /home/ankitmishralive/miniconda3/envs/textextraction/lib/python3.12/site-packages (from onnxruntime>=1.7.0->rapidocr_onnxruntime) (24.3.25)\n",
      "Requirement already satisfied: packaging in /home/ankitmishralive/.local/lib/python3.12/site-packages (from onnxruntime>=1.7.0->rapidocr_onnxruntime) (24.2)\n",
      "Requirement already satisfied: protobuf in /home/ankitmishralive/miniconda3/envs/textextraction/lib/python3.12/site-packages (from onnxruntime>=1.7.0->rapidocr_onnxruntime) (5.29.2)\n",
      "Requirement already satisfied: sympy in /home/ankitmishralive/miniconda3/envs/textextraction/lib/python3.12/site-packages (from onnxruntime>=1.7.0->rapidocr_onnxruntime) (1.13.1)\n",
      "Requirement already satisfied: humanfriendly>=9.1 in /home/ankitmishralive/miniconda3/envs/textextraction/lib/python3.12/site-packages (from coloredlogs->onnxruntime>=1.7.0->rapidocr_onnxruntime) (10.0)\n",
      "Requirement already satisfied: mpmath<1.4,>=1.1.0 in /home/ankitmishralive/miniconda3/envs/textextraction/lib/python3.12/site-packages (from sympy->onnxruntime>=1.7.0->rapidocr_onnxruntime) (1.3.0)\n"
     ]
    }
   ],
   "source": [
    "!pip install rapidocr_onnxruntime"
   ]
  },
  {
   "cell_type": "markdown",
   "metadata": {},
   "source": [
    "#  Convertor (text ot JSON) using LLM "
   ]
  },
  {
   "cell_type": "code",
   "execution_count": 2,
   "metadata": {},
   "outputs": [],
   "source": [
    "from langchain_ollama.llms import OllamaLLM\n",
    "from langchain_core.prompts import PromptTemplate\n",
    "import json\n",
    "\n",
    "def convert_text_to_json_with_llm(input_text):\n",
    "    \"\"\"\n",
    "    Converts any input text into a structured JSON format.\n",
    "    \n",
    "    Parameters:\n",
    "    - input_text (str): Any text input to be converted to JSON\n",
    "    \n",
    "    Returns:\n",
    "    - str: A JSON string containing structured data\n",
    "    \"\"\"\n",
    "    # Create a generic prompt template for JSON conversion\n",
    "    template = \"\"\"\n",
    "    Convert the following text into a proper JSON format.\n",
    "    Extract all relevant information as key-value pairs.\n",
    "    Return ONLY a valid JSON object, nothing else.\n",
    "    \n",
    "    Text to convert:\n",
    "    {text}\n",
    "    \n",
    "    Rules:\n",
    "    1. Structure all information into logical key-value pairs\n",
    "    2. Group related information together\n",
    "    3. Use arrays for multiple related items\n",
    "    4. Maintain proper JSON syntax\n",
    "    5. Return only the JSON object with no additional text or explanation\n",
    "    \"\"\"\n",
    "    \n",
    "    prompt = PromptTemplate(\n",
    "        template=template,\n",
    "        input_variables=[\"text\"]\n",
    "    )\n",
    "    \n",
    "    # Initialize the LLM\n",
    "    llm = OllamaLLM(model=\"llama3.1:latest\")\n",
    "    \n",
    "    # Generate the formatted prompt\n",
    "    formatted_prompt = prompt.format(text=input_text)\n",
    "    \n",
    "    # Get response from LLM\n",
    "    response = llm(formatted_prompt)\n",
    "    \n",
    "    try:\n",
    "        # Clean the response\n",
    "        cleaned_response = response.strip()\n",
    "        # Find JSON boundaries\n",
    "        start_idx = cleaned_response.find('{')\n",
    "        end_idx = cleaned_response.rfind('}')\n",
    "        \n",
    "        if start_idx != -1 and end_idx != -1:\n",
    "            cleaned_response = cleaned_response[start_idx:end_idx + 1]\n",
    "            \n",
    "            # Parse and validate JSON\n",
    "            parsed_json = json.loads(cleaned_response)\n",
    "            \n",
    "            # Return formatted JSON string\n",
    "            return json.dumps(parsed_json, indent=2, ensure_ascii=False)\n",
    "        else:\n",
    "            raise ValueError(\"No valid JSON object found in response\")\n",
    "            \n",
    "    except Exception as e:\n",
    "        raise Exception(f\"Failed to parse LLM output into JSON: {str(e)}\")\n"
   ]
  },
  {
   "cell_type": "markdown",
   "metadata": {},
   "source": [
    "## Rapid OCR"
   ]
  },
  {
   "cell_type": "code",
   "execution_count": 8,
   "metadata": {},
   "outputs": [
    {
     "name": "stdout",
     "output_type": "stream",
     "text": [
      "[[[[427.0, 32.0], [551.0, 31.0], [551.0, 47.0], [427.0, 48.0]], 'Fortis Hospitals Limited', 0.928359697262446], [[[64.0, 47.0], [170.0, 51.0], [169.0, 88.0], [63.0, 84.0]], 'Fortis', 0.9813376267751058], [[[426.0, 45.0], [564.0, 40.0], [564.0, 59.0], [427.0, 64.0]], '154/9.Baeagof3', 0.7397212577717645], [[[428.0, 55.0], [547.0, 55.0], [547.0, 71.0], [428.0, 71.0]], 'Opp.M-B.Bengaluru-560076', 0.878893873343865], [[[429.0, 67.0], [558.0, 67.0], [558.0, 80.0], [429.0, 81.0]], 'Tel.:+91-80-66214444,2254 4444', 0.9282006283601125], [[[428.0, 78.0], [517.0, 78.0], [517.0, 91.0], [428.0, 91.0]], 'Fax: +91-80-6621 4242.', 0.9088793694972992], [[[429.0, 89.0], [540.0, 89.0], [540.0, 102.0], [429.0, 102.0]], 'care.bng@fortishealthcare.com', 0.929301203324877], [[[429.0, 99.0], [559.0, 99.0], [559.0, 112.0], [429.0, 112.0]], 'CIN No.U93000DL2009PLC222166', 0.954205005296639], [[[241.0, 143.0], [399.0, 143.0], [399.0, 156.0], [241.0, 156.0]], 'DEPARTMENTOFCARDIOLOGY', 0.9958724189888347], [[[78.0, 156.0], [163.0, 156.0], [163.0, 172.0], [78.0, 172.0]], 'Date :18/Apr/2024', 0.9679341701900258], [[[271.0, 155.0], [374.0, 157.0], [374.0, 174.0], [270.0, 172.0]], 'Discharge Summary', 0.9665262558880974], [[[78.0, 190.0], [141.0, 190.0], [141.0, 206.0], [78.0, 206.0]], 'Patient Name', 0.9653787364562353], [[[168.0, 182.0], [254.0, 184.0], [253.0, 201.0], [168.0, 199.0]], 'Mrs. Vaishali Vijay', 0.9471041779769095], [[[169.0, 197.0], [209.0, 197.0], [209.0, 211.0], [169.0, 211.0]], 'Bellubbi', 0.980074942111969], [[[274.0, 191.0], [355.0, 191.0], [355.0, 204.0], [274.0, 204.0]], 'UHID|OIUHID', 0.8614570227536288], [[[418.0, 190.0], [547.0, 190.0], [547.0, 204.0], [418.0, 204.0]], '3991490 | WHBG.0000576179', 0.9725703644752502], [[[77.0, 210.0], [140.0, 207.0], [140.0, 224.0], [78.0, 227.0]], 'Age/Gender', 0.9916869759559631], [[[169.0, 209.0], [248.0, 209.0], [248.0, 225.0], [169.0, 225.0]], '68Years/Female', 0.9847072618348258], [[[274.0, 209.0], [328.0, 209.0], [328.0, 225.0], [274.0, 225.0]], 'EpisodeNo', 0.9933506117926704], [[[417.0, 208.0], [483.0, 208.0], [483.0, 224.0], [417.0, 224.0]], '88910/24/1113', 0.9625994975750263], [[[79.0, 224.0], [132.0, 224.0], [132.0, 238.0], [79.0, 238.0]], 'Contact No', 0.9451247930526734], [[[170.0, 223.0], [224.0, 223.0], [224.0, 237.0], [170.0, 237.0]], '9686571334', 0.9995859444141388], [[[274.0, 223.0], [356.0, 223.0], [356.0, 237.0], [274.0, 237.0]], 'Date of Admission', 0.9818326164694393], [[[417.0, 222.0], [474.0, 222.0], [474.0, 238.0], [417.0, 238.0]], '14Apr2024', 0.9899074302779304], [[[78.0, 237.0], [150.0, 237.0], [150.0, 253.0], [78.0, 253.0]], 'Discharge Type', 0.9543232236589704], [[[170.0, 237.0], [218.0, 237.0], [218.0, 250.0], [170.0, 250.0]], 'ROUTINE', 0.995596706867218], [[[273.0, 234.0], [355.0, 236.0], [355.0, 252.0], [273.0, 250.0]], 'Date of Discharge', 0.9646476822740891], [[[418.0, 235.0], [473.0, 235.0], [473.0, 251.0], [418.0, 251.0]], '17 Apr 2024', 0.9152639237317172], [[[79.0, 255.0], [118.0, 257.0], [117.0, 271.0], [78.0, 269.0]], 'Address', 0.9952848127910069], [[[168.0, 249.0], [446.0, 248.0], [446.0, 264.0], [168.0, 265.0]], '201,GURUPRIYA NEARROYALRESIDENCYAPTBTM4TH', 0.953629559133111], [[[170.0, 261.0], [351.0, 261.0], [351.0, 275.0], [170.0, 275.0]], 'STAGE,Bangalore.,Karmataka,India,560074', 0.9161957792746716], [[[78.0, 274.0], [254.0, 274.0], [254.0, 290.0], [78.0, 290.0]], 'Name of Consultant Dr.Rajpal RL Singh', 0.9622631330747862], [[[79.0, 289.0], [138.0, 289.0], [138.0, 303.0], [79.0, 303.0]], 'Doctor Team', 0.969742168079723], [[[80.0, 330.0], [131.0, 330.0], [131.0, 345.0], [80.0, 345.0]], 'Diagnosis', 0.9939317637019687], [[[81.0, 347.0], [326.0, 347.0], [326.0, 360.0], [81.0, 360.0]], 'ACUTEINFERIORWALL MYOCARDIALINFARCTION', 0.9835684189670965], [[[80.0, 360.0], [433.0, 360.0], [433.0, 376.0], [80.0, 376.0]], 'ISCHEMICHEARTDISEASE,STATUSPOSTPCITODISTALRCA-PLV(2018)', 0.9755219546231356], [[[80.0, 376.0], [387.0, 376.0], [387.0, 390.0], [80.0, 390.0]], 'TRIPLEVESSELCORONARYARTERYDISEASE(CAG-14.04.2024)', 0.9822756052017212], [[[79.0, 391.0], [517.0, 391.0], [517.0, 406.0], [79.0, 406.0]], 'SUCCESSFULPRIMARYPCIWITH TWO OVERLAPPINGDRUGELUTINGSTENTS(3X35MM', 0.97205607034266], [[[81.0, 422.0], [294.0, 422.0], [294.0, 435.0], [81.0, 435.0]], 'OSTIOPROXIMALRCA DONEON14.04.2024', 0.9785848783724236], [[[81.0, 437.0], [306.0, 437.0], [306.0, 450.0], [81.0, 450.0]], 'BORDERLINELV SYSTOLICFUNCTION(EF50%)', 0.9686718268526925], [[[80.0, 452.0], [181.0, 452.0], [181.0, 465.0], [80.0, 465.0]], 'DIABETES MELLITUS', 0.975943014902227], [[[80.0, 467.0], [146.0, 467.0], [146.0, 480.0], [80.0, 480.0]], 'CHRONICITP', 0.9952938854694366], [[[79.0, 496.0], [168.0, 498.0], [168.0, 514.0], [79.0, 512.0]], 'Chief Complaints', 0.9706518054008484], [[[78.0, 512.0], [517.0, 513.0], [517.0, 532.0], [78.0, 530.0]], 'Patient isaknown case of IHD-hadacute IWMI(2018),doublevessel coronary artery', 0.9190764632317927], [[[78.0, 527.0], [518.0, 528.0], [518.0, 546.0], [78.0, 545.0]], 'disease (CAG),status pot PTCA-RCA（2018),now presented with complaints of chest', 0.9225647648175558], [[[78.0, 544.0], [233.0, 543.0], [233.0, 559.0], [78.0, 559.0]], 'pain since 3 pm on 14.04.2024.', 0.9800745149453481], [[[79.0, 573.0], [143.0, 575.0], [142.0, 592.0], [78.0, 590.0]], 'Past History', 0.9900695631901423], [[[78.0, 591.0], [257.0, 591.0], [257.0, 607.0], [78.0, 607.0]], 'IHD, status post PTCA to RCA (2018)', 0.9701168281691415], [[[78.0, 605.0], [99.0, 605.0], [99.0, 621.0], [78.0, 621.0]], 'ITP', 0.9974524180094401], [[[79.0, 619.0], [167.0, 621.0], [166.0, 637.0], [78.0, 635.0]], 'Diabetesmellitus', 0.9930281192064285], [[[79.0, 647.0], [126.0, 649.0], [125.0, 667.0], [78.0, 665.0]], 'Allergies', 0.9924868941307068], [[[78.0, 676.0], [177.0, 676.0], [177.0, 692.0], [78.0, 692.0]], 'No known allergies.', 0.9941653075971102], [[[429.0, 690.0], [501.0, 659.0], [509.0, 675.0], [437.0, 707.0]], 'alsLimited', 0.9805890560150147], [[[456.0, 690.0], [503.0, 673.0], [509.0, 690.0], [462.0, 707.0]], 'ateRoad', 0.9691293920789447], [[[79.0, 705.0], [187.0, 707.0], [187.0, 723.0], [78.0, 722.0]], 'Physical Examination', 0.9890684127807617], [[[370.0, 712.0], [440.0, 687.0], [446.0, 703.0], [376.0, 728.0]], 'Fortis Hosp', 0.8875340521335602], [[[378.0, 721.0], [434.0, 700.0], [441.0, 719.0], [385.0, 739.0]], '154/9,Ba', 0.8956009075045586], [[[460.0, 715.0], [504.0, 698.0], [510.0, 712.0], [466.0, 729.0]], '-560076', 0.9430591804640633], [[[365.0, 741.0], [389.0, 738.0], [391.0, 751.0], [367.0, 754.0]], 'Opp.', 0.8344457149505615], [[[391.0, 741.0], [463.0, 714.0], [469.0, 730.0], [397.0, 758.0]], 'BANGALORE', 0.9807410372628106], [[[370.0, 784.0], [395.0, 784.0], [395.0, 792.0], [370.0, 792.0]], '24-7', 0.8729763925075531], [[[214.0, 795.0], [249.0, 795.0], [249.0, 808.0], [214.0, 808.0]], 'EARS', 0.9937836229801178], [[[434.0, 787.0], [561.0, 787.0], [561.0, 806.0], [434.0, 806.0]], '9686096860', 0.9959854125976563], [[[69.0, 812.0], [561.0, 812.0], [561.0, 828.0], [69.0, 828.0]], 'https://his.myfortishealthcare.com/DisehargeSummary/DischargeSummary/PrintDisch..18-04-2024', 0.9405117427909767], [[[179.0, 833.0], [407.0, 834.0], [407.0, 850.0], [179.0, 848.0]], 'www.fortishealthcare.com/www.fortisbangalore.com', 0.9499724097549915]]\n",
      "[0.19133303499984322, 0.07719802856445312, 1.398594856262207]\n"
     ]
    }
   ],
   "source": [
    "from rapidocr_onnxruntime import RapidOCR\n",
    "\n",
    "engine = RapidOCR()\n",
    "\n",
    "img_path = '1.png'\n",
    "result_RapidOCR, elapse = engine(img_path)\n",
    "print(result_RapidOCR)\n",
    "print(elapse)"
   ]
  },
  {
   "cell_type": "code",
   "execution_count": 10,
   "metadata": {},
   "outputs": [
    {
     "name": "stdout",
     "output_type": "stream",
     "text": [
      "{'Patient Information': {'Name': '', 'Age': '', 'Sex': '', 'Disease': []}, 'Medical History': {'Allergies': [{'Type': '', 'Description': ''}], 'Diabetes': [], 'ITP': [], 'Other Conditions': []}, 'Medications': {'Prescribed Medications': [], 'Over-the-Counter Medications': []}, 'Physical Examination': {'Vital Signs': [{'Parameter': '', 'Value': ''}], 'Body Mass Index (BMI)': '', 'Blood Pressure': ''}, 'Medical Tests and Results': {'Lab Tests': [], 'Imaging Studies': [], 'Other Tests': []}, 'Discharge Summary': {'Date of Discharge': '', 'Reason for Discharge': '', 'Follow-up Instructions': []}}\n"
     ]
    }
   ],
   "source": [
    "json_output_rapidOCR = convert_text_to_json_with_llm(result_RapidOCR)\n",
    "json_output_rapidOCR = json.loads(json_output_rapidOCR)\n",
    "print(json_output_rapidOCR)"
   ]
  },
  {
   "cell_type": "code",
   "execution_count": 11,
   "metadata": {},
   "outputs": [
    {
     "data": {
      "text/plain": [
       "[[[[427.0, 32.0], [551.0, 31.0], [551.0, 47.0], [427.0, 48.0]],\n",
       "  'Fortis Hospitals Limited',\n",
       "  0.928359697262446],\n",
       " [[[64.0, 47.0], [170.0, 51.0], [169.0, 88.0], [63.0, 84.0]],\n",
       "  'Fortis',\n",
       "  0.9813376267751058],\n",
       " [[[426.0, 45.0], [564.0, 40.0], [564.0, 59.0], [427.0, 64.0]],\n",
       "  '154/9.Baeagof3',\n",
       "  0.7397212577717645],\n",
       " [[[428.0, 55.0], [547.0, 55.0], [547.0, 71.0], [428.0, 71.0]],\n",
       "  'Opp.M-B.Bengaluru-560076',\n",
       "  0.878893873343865],\n",
       " [[[429.0, 67.0], [558.0, 67.0], [558.0, 80.0], [429.0, 81.0]],\n",
       "  'Tel.:+91-80-66214444,2254 4444',\n",
       "  0.9282006283601125],\n",
       " [[[428.0, 78.0], [517.0, 78.0], [517.0, 91.0], [428.0, 91.0]],\n",
       "  'Fax: +91-80-6621 4242.',\n",
       "  0.9088793694972992],\n",
       " [[[429.0, 89.0], [540.0, 89.0], [540.0, 102.0], [429.0, 102.0]],\n",
       "  'care.bng@fortishealthcare.com',\n",
       "  0.929301203324877],\n",
       " [[[429.0, 99.0], [559.0, 99.0], [559.0, 112.0], [429.0, 112.0]],\n",
       "  'CIN No.U93000DL2009PLC222166',\n",
       "  0.954205005296639],\n",
       " [[[241.0, 143.0], [399.0, 143.0], [399.0, 156.0], [241.0, 156.0]],\n",
       "  'DEPARTMENTOFCARDIOLOGY',\n",
       "  0.9958724189888347],\n",
       " [[[78.0, 156.0], [163.0, 156.0], [163.0, 172.0], [78.0, 172.0]],\n",
       "  'Date :18/Apr/2024',\n",
       "  0.9679341701900258],\n",
       " [[[271.0, 155.0], [374.0, 157.0], [374.0, 174.0], [270.0, 172.0]],\n",
       "  'Discharge Summary',\n",
       "  0.9665262558880974],\n",
       " [[[78.0, 190.0], [141.0, 190.0], [141.0, 206.0], [78.0, 206.0]],\n",
       "  'Patient Name',\n",
       "  0.9653787364562353],\n",
       " [[[168.0, 182.0], [254.0, 184.0], [253.0, 201.0], [168.0, 199.0]],\n",
       "  'Mrs. Vaishali Vijay',\n",
       "  0.9471041779769095],\n",
       " [[[169.0, 197.0], [209.0, 197.0], [209.0, 211.0], [169.0, 211.0]],\n",
       "  'Bellubbi',\n",
       "  0.980074942111969],\n",
       " [[[274.0, 191.0], [355.0, 191.0], [355.0, 204.0], [274.0, 204.0]],\n",
       "  'UHID|OIUHID',\n",
       "  0.8614570227536288],\n",
       " [[[418.0, 190.0], [547.0, 190.0], [547.0, 204.0], [418.0, 204.0]],\n",
       "  '3991490 | WHBG.0000576179',\n",
       "  0.9725703644752502],\n",
       " [[[77.0, 210.0], [140.0, 207.0], [140.0, 224.0], [78.0, 227.0]],\n",
       "  'Age/Gender',\n",
       "  0.9916869759559631],\n",
       " [[[169.0, 209.0], [248.0, 209.0], [248.0, 225.0], [169.0, 225.0]],\n",
       "  '68Years/Female',\n",
       "  0.9847072618348258],\n",
       " [[[274.0, 209.0], [328.0, 209.0], [328.0, 225.0], [274.0, 225.0]],\n",
       "  'EpisodeNo',\n",
       "  0.9933506117926704],\n",
       " [[[417.0, 208.0], [483.0, 208.0], [483.0, 224.0], [417.0, 224.0]],\n",
       "  '88910/24/1113',\n",
       "  0.9625994975750263],\n",
       " [[[79.0, 224.0], [132.0, 224.0], [132.0, 238.0], [79.0, 238.0]],\n",
       "  'Contact No',\n",
       "  0.9451247930526734],\n",
       " [[[170.0, 223.0], [224.0, 223.0], [224.0, 237.0], [170.0, 237.0]],\n",
       "  '9686571334',\n",
       "  0.9995859444141388],\n",
       " [[[274.0, 223.0], [356.0, 223.0], [356.0, 237.0], [274.0, 237.0]],\n",
       "  'Date of Admission',\n",
       "  0.9818326164694393],\n",
       " [[[417.0, 222.0], [474.0, 222.0], [474.0, 238.0], [417.0, 238.0]],\n",
       "  '14Apr2024',\n",
       "  0.9899074302779304],\n",
       " [[[78.0, 237.0], [150.0, 237.0], [150.0, 253.0], [78.0, 253.0]],\n",
       "  'Discharge Type',\n",
       "  0.9543232236589704],\n",
       " [[[170.0, 237.0], [218.0, 237.0], [218.0, 250.0], [170.0, 250.0]],\n",
       "  'ROUTINE',\n",
       "  0.995596706867218],\n",
       " [[[273.0, 234.0], [355.0, 236.0], [355.0, 252.0], [273.0, 250.0]],\n",
       "  'Date of Discharge',\n",
       "  0.9646476822740891],\n",
       " [[[418.0, 235.0], [473.0, 235.0], [473.0, 251.0], [418.0, 251.0]],\n",
       "  '17 Apr 2024',\n",
       "  0.9152639237317172],\n",
       " [[[79.0, 255.0], [118.0, 257.0], [117.0, 271.0], [78.0, 269.0]],\n",
       "  'Address',\n",
       "  0.9952848127910069],\n",
       " [[[168.0, 249.0], [446.0, 248.0], [446.0, 264.0], [168.0, 265.0]],\n",
       "  '201,GURUPRIYA NEARROYALRESIDENCYAPTBTM4TH',\n",
       "  0.953629559133111],\n",
       " [[[170.0, 261.0], [351.0, 261.0], [351.0, 275.0], [170.0, 275.0]],\n",
       "  'STAGE,Bangalore.,Karmataka,India,560074',\n",
       "  0.9161957792746716],\n",
       " [[[78.0, 274.0], [254.0, 274.0], [254.0, 290.0], [78.0, 290.0]],\n",
       "  'Name of Consultant Dr.Rajpal RL Singh',\n",
       "  0.9622631330747862],\n",
       " [[[79.0, 289.0], [138.0, 289.0], [138.0, 303.0], [79.0, 303.0]],\n",
       "  'Doctor Team',\n",
       "  0.969742168079723],\n",
       " [[[80.0, 330.0], [131.0, 330.0], [131.0, 345.0], [80.0, 345.0]],\n",
       "  'Diagnosis',\n",
       "  0.9939317637019687],\n",
       " [[[81.0, 347.0], [326.0, 347.0], [326.0, 360.0], [81.0, 360.0]],\n",
       "  'ACUTEINFERIORWALL MYOCARDIALINFARCTION',\n",
       "  0.9835684189670965],\n",
       " [[[80.0, 360.0], [433.0, 360.0], [433.0, 376.0], [80.0, 376.0]],\n",
       "  'ISCHEMICHEARTDISEASE,STATUSPOSTPCITODISTALRCA-PLV(2018)',\n",
       "  0.9755219546231356],\n",
       " [[[80.0, 376.0], [387.0, 376.0], [387.0, 390.0], [80.0, 390.0]],\n",
       "  'TRIPLEVESSELCORONARYARTERYDISEASE(CAG-14.04.2024)',\n",
       "  0.9822756052017212],\n",
       " [[[79.0, 391.0], [517.0, 391.0], [517.0, 406.0], [79.0, 406.0]],\n",
       "  'SUCCESSFULPRIMARYPCIWITH TWO OVERLAPPINGDRUGELUTINGSTENTS(3X35MM',\n",
       "  0.97205607034266],\n",
       " [[[81.0, 422.0], [294.0, 422.0], [294.0, 435.0], [81.0, 435.0]],\n",
       "  'OSTIOPROXIMALRCA DONEON14.04.2024',\n",
       "  0.9785848783724236],\n",
       " [[[81.0, 437.0], [306.0, 437.0], [306.0, 450.0], [81.0, 450.0]],\n",
       "  'BORDERLINELV SYSTOLICFUNCTION(EF50%)',\n",
       "  0.9686718268526925],\n",
       " [[[80.0, 452.0], [181.0, 452.0], [181.0, 465.0], [80.0, 465.0]],\n",
       "  'DIABETES MELLITUS',\n",
       "  0.975943014902227],\n",
       " [[[80.0, 467.0], [146.0, 467.0], [146.0, 480.0], [80.0, 480.0]],\n",
       "  'CHRONICITP',\n",
       "  0.9952938854694366],\n",
       " [[[79.0, 496.0], [168.0, 498.0], [168.0, 514.0], [79.0, 512.0]],\n",
       "  'Chief Complaints',\n",
       "  0.9706518054008484],\n",
       " [[[78.0, 512.0], [517.0, 513.0], [517.0, 532.0], [78.0, 530.0]],\n",
       "  'Patient isaknown case of IHD-hadacute IWMI(2018),doublevessel coronary artery',\n",
       "  0.9190764632317927],\n",
       " [[[78.0, 527.0], [518.0, 528.0], [518.0, 546.0], [78.0, 545.0]],\n",
       "  'disease (CAG),status pot PTCA-RCA（2018),now presented with complaints of chest',\n",
       "  0.9225647648175558],\n",
       " [[[78.0, 544.0], [233.0, 543.0], [233.0, 559.0], [78.0, 559.0]],\n",
       "  'pain since 3 pm on 14.04.2024.',\n",
       "  0.9800745149453481],\n",
       " [[[79.0, 573.0], [143.0, 575.0], [142.0, 592.0], [78.0, 590.0]],\n",
       "  'Past History',\n",
       "  0.9900695631901423],\n",
       " [[[78.0, 591.0], [257.0, 591.0], [257.0, 607.0], [78.0, 607.0]],\n",
       "  'IHD, status post PTCA to RCA (2018)',\n",
       "  0.9701168281691415],\n",
       " [[[78.0, 605.0], [99.0, 605.0], [99.0, 621.0], [78.0, 621.0]],\n",
       "  'ITP',\n",
       "  0.9974524180094401],\n",
       " [[[79.0, 619.0], [167.0, 621.0], [166.0, 637.0], [78.0, 635.0]],\n",
       "  'Diabetesmellitus',\n",
       "  0.9930281192064285],\n",
       " [[[79.0, 647.0], [126.0, 649.0], [125.0, 667.0], [78.0, 665.0]],\n",
       "  'Allergies',\n",
       "  0.9924868941307068],\n",
       " [[[78.0, 676.0], [177.0, 676.0], [177.0, 692.0], [78.0, 692.0]],\n",
       "  'No known allergies.',\n",
       "  0.9941653075971102],\n",
       " [[[429.0, 690.0], [501.0, 659.0], [509.0, 675.0], [437.0, 707.0]],\n",
       "  'alsLimited',\n",
       "  0.9805890560150147],\n",
       " [[[456.0, 690.0], [503.0, 673.0], [509.0, 690.0], [462.0, 707.0]],\n",
       "  'ateRoad',\n",
       "  0.9691293920789447],\n",
       " [[[79.0, 705.0], [187.0, 707.0], [187.0, 723.0], [78.0, 722.0]],\n",
       "  'Physical Examination',\n",
       "  0.9890684127807617],\n",
       " [[[370.0, 712.0], [440.0, 687.0], [446.0, 703.0], [376.0, 728.0]],\n",
       "  'Fortis Hosp',\n",
       "  0.8875340521335602],\n",
       " [[[378.0, 721.0], [434.0, 700.0], [441.0, 719.0], [385.0, 739.0]],\n",
       "  '154/9,Ba',\n",
       "  0.8956009075045586],\n",
       " [[[460.0, 715.0], [504.0, 698.0], [510.0, 712.0], [466.0, 729.0]],\n",
       "  '-560076',\n",
       "  0.9430591804640633],\n",
       " [[[365.0, 741.0], [389.0, 738.0], [391.0, 751.0], [367.0, 754.0]],\n",
       "  'Opp.',\n",
       "  0.8344457149505615],\n",
       " [[[391.0, 741.0], [463.0, 714.0], [469.0, 730.0], [397.0, 758.0]],\n",
       "  'BANGALORE',\n",
       "  0.9807410372628106],\n",
       " [[[370.0, 784.0], [395.0, 784.0], [395.0, 792.0], [370.0, 792.0]],\n",
       "  '24-7',\n",
       "  0.8729763925075531],\n",
       " [[[214.0, 795.0], [249.0, 795.0], [249.0, 808.0], [214.0, 808.0]],\n",
       "  'EARS',\n",
       "  0.9937836229801178],\n",
       " [[[434.0, 787.0], [561.0, 787.0], [561.0, 806.0], [434.0, 806.0]],\n",
       "  '9686096860',\n",
       "  0.9959854125976563],\n",
       " [[[69.0, 812.0], [561.0, 812.0], [561.0, 828.0], [69.0, 828.0]],\n",
       "  'https://his.myfortishealthcare.com/DisehargeSummary/DischargeSummary/PrintDisch..18-04-2024',\n",
       "  0.9405117427909767],\n",
       " [[[179.0, 833.0], [407.0, 834.0], [407.0, 850.0], [179.0, 848.0]],\n",
       "  'www.fortishealthcare.com/www.fortisbangalore.com',\n",
       "  0.9499724097549915]]"
      ]
     },
     "execution_count": 11,
     "metadata": {},
     "output_type": "execute_result"
    }
   ],
   "source": [
    "result_RapidOCR"
   ]
  },
  {
   "cell_type": "code",
   "execution_count": 12,
   "metadata": {},
   "outputs": [
    {
     "data": {
      "text/plain": [
       "{'Patient Information': {'Name': '', 'Age': '', 'Sex': '', 'Disease': []},\n",
       " 'Medical History': {'Allergies': [{'Type': '', 'Description': ''}],\n",
       "  'Diabetes': [],\n",
       "  'ITP': [],\n",
       "  'Other Conditions': []},\n",
       " 'Medications': {'Prescribed Medications': [],\n",
       "  'Over-the-Counter Medications': []},\n",
       " 'Physical Examination': {'Vital Signs': [{'Parameter': '', 'Value': ''}],\n",
       "  'Body Mass Index (BMI)': '',\n",
       "  'Blood Pressure': ''},\n",
       " 'Medical Tests and Results': {'Lab Tests': [],\n",
       "  'Imaging Studies': [],\n",
       "  'Other Tests': []},\n",
       " 'Discharge Summary': {'Date of Discharge': '',\n",
       "  'Reason for Discharge': '',\n",
       "  'Follow-up Instructions': []}}"
      ]
     },
     "execution_count": 12,
     "metadata": {},
     "output_type": "execute_result"
    }
   ],
   "source": [
    "json_output_rapidOCR"
   ]
  },
  {
   "cell_type": "markdown",
   "metadata": {},
   "source": [
    "#### RapidOCR not giving good results "
   ]
  },
  {
   "cell_type": "markdown",
   "metadata": {},
   "source": []
  },
  {
   "cell_type": "code",
   "execution_count": 20,
   "metadata": {},
   "outputs": [],
   "source": [
    "# https://noedgeai.com/\n",
    "\n",
    "##  work with API "
   ]
  },
  {
   "cell_type": "code",
   "execution_count": null,
   "metadata": {},
   "outputs": [],
   "source": []
  },
  {
   "cell_type": "code",
   "execution_count": null,
   "metadata": {},
   "outputs": [],
   "source": []
  },
  {
   "cell_type": "code",
   "execution_count": null,
   "metadata": {},
   "outputs": [],
   "source": []
  },
  {
   "cell_type": "code",
   "execution_count": null,
   "metadata": {},
   "outputs": [],
   "source": []
  },
  {
   "cell_type": "code",
   "execution_count": null,
   "metadata": {},
   "outputs": [],
   "source": []
  }
 ],
 "metadata": {
  "kernelspec": {
   "display_name": "textextraction",
   "language": "python",
   "name": "python3"
  },
  "language_info": {
   "codemirror_mode": {
    "name": "ipython",
    "version": 3
   },
   "file_extension": ".py",
   "mimetype": "text/x-python",
   "name": "python",
   "nbconvert_exporter": "python",
   "pygments_lexer": "ipython3",
   "version": "3.12.8"
  }
 },
 "nbformat": 4,
 "nbformat_minor": 2
}
